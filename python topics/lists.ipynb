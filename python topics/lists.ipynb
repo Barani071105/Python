{
 "cells": [
  {
   "cell_type": "code",
   "execution_count": 4,
   "metadata": {},
   "outputs": [
    {
     "name": "stdout",
     "output_type": "stream",
     "text": [
      "['apple', 'banana', 'papaya', 'watermelon']\n"
     ]
    }
   ],
   "source": [
    "fruits=[\"apple\",\"banana\",\"papaya\",\"watermelon\"]\n",
    "print(fruits)"
   ]
  },
  {
   "cell_type": "code",
   "execution_count": 5,
   "metadata": {},
   "outputs": [
    {
     "name": "stdout",
     "output_type": "stream",
     "text": [
      "papaya\n"
     ]
    }
   ],
   "source": [
    "#index to acessing the element\n",
    "print(fruits[2])"
   ]
  },
  {
   "cell_type": "code",
   "execution_count": 6,
   "metadata": {},
   "outputs": [
    {
     "name": "stdout",
     "output_type": "stream",
     "text": [
      "4\n"
     ]
    }
   ],
   "source": [
    "#to find lemgth of elements\n",
    "print(len(furits))"
   ]
  },
  {
   "cell_type": "code",
   "execution_count": 7,
   "metadata": {},
   "outputs": [
    {
     "name": "stdout",
     "output_type": "stream",
     "text": [
      "['apple', 'banana', 'orange']\n",
      "[1, 2, 3, 4, 5]\n",
      "['True', 'False']\n"
     ]
    }
   ],
   "source": [
    "#list may be any data type\n",
    "list1=[\"apple\",\"banana\",\"orange\"]\n",
    "list2=[1,2,3,4,5]\n",
    "list3=[\"True\",\"False\"]\n",
    "print(list1)\n",
    "print(list2)\n",
    "print(list3)"
   ]
  },
  {
   "cell_type": "code",
   "execution_count": 8,
   "metadata": {},
   "outputs": [
    {
     "name": "stdout",
     "output_type": "stream",
     "text": [
      "<class 'list'>\n"
     ]
    }
   ],
   "source": [
    "#constructor in lists\n",
    "fruits=list((\"apple\",\"banana\",\"orange\"))\n",
    "print(type(fruits))"
   ]
  },
  {
   "cell_type": "code",
   "execution_count": 9,
   "metadata": {},
   "outputs": [
    {
     "name": "stdout",
     "output_type": "stream",
     "text": [
      "yes apple present in list\n"
     ]
    }
   ],
   "source": [
    "#check if present in the list\n",
    "if \"orange\"in furits:\n",
    "    print(\"yes apple present in list\")"
   ]
  },
  {
   "cell_type": "code",
   "execution_count": 13,
   "metadata": {},
   "outputs": [
    {
     "name": "stdout",
     "output_type": "stream",
     "text": [
      "['apple', 'banana', 'watermelon', 'orange']\n"
     ]
    }
   ],
   "source": [
    "#change list item\n",
    "fruits=list((\"apple\",\"banana\",\"orange\"))\n",
    "fruits.insert(2,\"watermelon\")\n",
    "print(fruits)    "
   ]
  },
  {
   "cell_type": "code",
   "execution_count": 15,
   "metadata": {},
   "outputs": [
    {
     "name": "stdout",
     "output_type": "stream",
     "text": [
      "['apple', 'kiwi', 'papaya', 'orange']\n"
     ]
    }
   ],
   "source": [
    "#add more elements in list\n",
    "fruits[1:3]=[\"kiwi\",\"papaya\"]\n",
    "print(fruits)"
   ]
  },
  {
   "cell_type": "code",
   "execution_count": 19,
   "metadata": {},
   "outputs": [
    {
     "name": "stdout",
     "output_type": "stream",
     "text": [
      "['apple', 'kiwi', 'papaya', 'orange', 'cherry', 'cherry', 'mango', 'choco', 'cherry']\n",
      "['apple', 'kiwi', 'papaya', 'orange', 'cherry', 'cherry', 'mango', 'choco', 'cherry', 'mango', 'choco']\n"
     ]
    }
   ],
   "source": [
    "#append & extend function\n",
    "#append add one element at end list\n",
    "fruits.append(\"cherry\")\n",
    "print(fruits)\n",
    "#extend add more than one element\n",
    "tropical=[\"mango\",\"choco\"]\n",
    "fruits.extend(tropical)\n",
    "print(fruits)"
   ]
  },
  {
   "cell_type": "code",
   "execution_count": 26,
   "metadata": {},
   "outputs": [
    {
     "name": "stdout",
     "output_type": "stream",
     "text": [
      "mango\n",
      "apple\n",
      "banana\n",
      "cherry\n",
      "mango\n",
      "apple\n",
      "banana\n",
      "cherry\n"
     ]
    }
   ],
   "source": [
    "#for loop on list\n",
    "fruits=[\"mango\",\"apple\",\"banana\",\"cherry\"]\n",
    "for i in fruits:\n",
    "    print(i)\n",
    "for i in range(len(fruits)):\n",
    "    print(fruits[i])    "
   ]
  },
  {
   "cell_type": "code",
   "execution_count": 7,
   "metadata": {},
   "outputs": [
    {
     "name": "stdout",
     "output_type": "stream",
     "text": [
      "mango\n",
      "apple\n",
      "banana\n",
      "cherry\n"
     ]
    }
   ],
   "source": [
    "#while loop on list\n",
    "fruits=[\"mango\",\"apple\",\"banana\",\"cherry\"]\n",
    "i=0\n",
    "while i < len(fruits):\n",
    "    print(fruits[i])\n",
    "    i=i+1"
   ]
  },
  {
   "cell_type": "code",
   "execution_count": 14,
   "metadata": {},
   "outputs": [
    {
     "name": "stdout",
     "output_type": "stream",
     "text": [
      "mango\n",
      "apple\n",
      "banana\n",
      "cherry\n"
     ]
    },
    {
     "data": {
      "text/plain": [
       "[None, None, None, None]"
      ]
     },
     "execution_count": 14,
     "metadata": {},
     "output_type": "execute_result"
    }
   ],
   "source": [
    "#list comprehension\n",
    "fruits=[\"mango\",\"apple\",\"banana\",\"cherry\"]\n",
    "[print(x) for x in fruits]"
   ]
  },
  {
   "cell_type": "code",
   "execution_count": 25,
   "metadata": {},
   "outputs": [
    {
     "name": "stdout",
     "output_type": "stream",
     "text": [
      "['mango', 'apple', 'banana']\n"
     ]
    }
   ],
   "source": [
    "#list comprehension in newlist\n",
    "fruits=[\"mango\",\"apple\",\"banana\",\"cherry\"]\n",
    "newlist=[]\n",
    "for i in range (len(fruits)):\n",
    "    if \"a\" in fruits[i]:#a is alphabet whether a present in element \n",
    "        newlist.append(fruits[i])\n",
    "\n",
    "print(newlist)"
   ]
  },
  {
   "cell_type": "code",
   "execution_count": 30,
   "metadata": {},
   "outputs": [
    {
     "name": "stdout",
     "output_type": "stream",
     "text": [
      "['MANGO', 'APPLE', 'BANANA', 'CHERRY']\n"
     ]
    }
   ],
   "source": [
    "fruits=[\"mango\",\"apple\",\"banana\",\"cherry\"]\n",
    "print([x.upper() for x in fruits ])"
   ]
  },
  {
   "cell_type": "code",
   "execution_count": 7,
   "metadata": {},
   "outputs": [
    {
     "name": "stdout",
     "output_type": "stream",
     "text": [
      "[12, 34, 45, 78.223, 100]\n"
     ]
    }
   ],
   "source": [
    "#print the list in acending order both number and alphabets\n",
    "fruits=[100,34,45,78.223,12]\n",
    "fruits.sort()\n",
    "print(fruits)\n",
    "      "
   ]
  },
  {
   "cell_type": "code",
   "execution_count": 5,
   "metadata": {},
   "outputs": [
    {
     "name": "stdout",
     "output_type": "stream",
     "text": [
      "[66, 45, 34, 30, 23]\n"
     ]
    }
   ],
   "source": [
    "def myfunc(n):\n",
    "    return abs(n-56)\n",
    "mylist=[30,45,66,23,34]\n",
    "mylist.sort(key=myfunc)\n",
    "print(mylist)\n"
   ]
  },
  {
   "cell_type": "code",
   "execution_count": 7,
   "metadata": {},
   "outputs": [
    {
     "name": "stdout",
     "output_type": "stream",
     "text": [
      "[100, 78.223, 45, 34, 12]\n"
     ]
    }
   ],
   "source": [
    "#print list in reverse \n",
    "fruits=[100,34,45,78.223,12]\n",
    "fruits.sort(reverse=True)\n",
    "print(fruits)"
   ]
  },
  {
   "cell_type": "code",
   "execution_count": 12,
   "metadata": {},
   "outputs": [
    {
     "name": "stdout",
     "output_type": "stream",
     "text": [
      "['barani', 'abilesh', 'manoj', 'karthi']\n"
     ]
    }
   ],
   "source": [
    "# copy the list from anthor list\n",
    "list=[\"baranii\",\"abilesh\",\"manoj\",\"karthi\"]\n",
    "#copy method 1\n",
    "list2=list.copy()\n",
    "print(list2)\n"
   ]
  },
  {
   "cell_type": "code",
   "execution_count": 20,
   "metadata": {},
   "outputs": [
    {
     "name": "stdout",
     "output_type": "stream",
     "text": [
      "[23, 546, 67, 24, 654]\n"
     ]
    }
   ],
   "source": [
    "#copy the list\n",
    "number=[23,546,67,24,654]\n",
    "number2=number[:]\n",
    "print(number2)"
   ]
  },
  {
   "cell_type": "code",
   "execution_count": 8,
   "metadata": {},
   "outputs": [
    {
     "name": "stdout",
     "output_type": "stream",
     "text": [
      "['abilesh', 'barani', 'Karthi', 'Manoj']\n"
     ]
    }
   ],
   "source": [
    "# list is case sensistive but some times \n",
    "# we need case insensitive by using built called \"key=str.lower\"\n",
    "list=[\"baranii\",\"abilesh\",\"Manoj\",\"Karthi\"]\n",
    "list.sort(key=str.lower)\n",
    "print(list)\n"
   ]
  },
  {
   "cell_type": "code",
   "execution_count": 12,
   "metadata": {},
   "outputs": [
    {
     "name": "stdout",
     "output_type": "stream",
     "text": [
      "['Karthi', 'Manoj', 'abilesh', 'barani']\n"
     ]
    }
   ],
   "source": [
    "# reverse the list by using reverse method\n",
    "list=[\"baranii\",\"abilesh\",\"Manoj\",\"Karthi\"]  \n",
    "list.reverse()\n",
    "print(list)\n"
   ]
  },
  {
   "cell_type": "code",
   "execution_count": 4,
   "metadata": {},
   "outputs": [
    {
     "name": "stdout",
     "output_type": "stream",
     "text": [
      "['baranii', 'abilesh', 'Manoj', 'Karthi', [23, 546, 67, 24, 654]]\n",
      "['baranii', 'abilesh', 'Manoj', 'Karthi', [23, 546, 67, 24, 654], 23, 546, 67, 24, 654]\n"
     ]
    }
   ],
   "source": [
    "#add list usind append method\n",
    "list=[\"baranii\",\"abilesh\",\"Manoj\",\"Karthi\"] \n",
    "number=[23,546,67,24,654]\n",
    "list.append(number)\n",
    "print(list)\n",
    "list.extend(number)\n",
    "print(list)"
   ]
  },
  {
   "cell_type": "code",
   "execution_count": 2,
   "metadata": {},
   "outputs": [
    {
     "name": "stdout",
     "output_type": "stream",
     "text": [
      "['baranii', 'abilesh', 'Manoj', 'Karthi', 23, 546, 67, 24, 654]\n"
     ]
    }
   ],
   "source": [
    "list=[\"baranii\",\"abilesh\",\"Manoj\",\"Karthi\"] \n",
    "number=[23,546,67,24,654]\n",
    "list2=list+number\n",
    "print(list2)\n"
   ]
  },
  {
   "cell_type": "code",
   "execution_count": 3,
   "metadata": {},
   "outputs": [
    {
     "name": "stdout",
     "output_type": "stream",
     "text": [
      "['baranii', 'abilesh', 'Manoj', 'Karthi', 23, 546, 67, 24, 654]\n"
     ]
    }
   ],
   "source": [
    "list=[\"baranii\",\"abilesh\",\"Manoj\",\"Karthi\"] \n",
    "number=[23,546,67,24,654]\n",
    "for i in range(len(number)):\n",
    "    list.append(number[i])\n",
    "print(list)    \n"
   ]
  },
  {
   "cell_type": "code",
   "execution_count": null,
   "metadata": {},
   "outputs": [],
   "source": [
    "#find largest and smalllest number in lists\n",
    "user=(input(\"Enter the number seprated by space:\"))\n",
    "list=user.split()\n",
    "for number in list:\n",
    " #number=([int(num) for num in user.split() ])\n",
    "\n",
    "  smallest=min(number)\n",
    "  largest=max(number)\n",
    "print(number)\n",
    "print(f\"The smallest numbers are: {smallest}\")\n",
    "print(f\"The largest number are: {largest}\")  \n"
   ]
  },
  {
   "cell_type": "code",
   "execution_count": 33,
   "metadata": {},
   "outputs": [
    {
     "name": "stdout",
     "output_type": "stream",
     "text": [
      "the first half are ['67', '89']\n",
      "the second half are['45', '67']\n"
     ]
    }
   ],
   "source": [
    "#find split the lists into two lists save into two list\n",
    "user_input=(input(\"Enter the list elements:\"))\n",
    "orginal_list=user_input.split()\n",
    "mid_pos=len(orginal_list)//2\n",
    "list1=orginal_list[mid_pos:]\n",
    "list2=orginal_list[:mid_pos]\n",
    "print(\"the first half are {}\".format(list1))\n",
    "print(\"the second half are{}\".format(list2))"
   ]
  },
  {
   "cell_type": "code",
   "execution_count": 30,
   "metadata": {},
   "outputs": [
    {
     "name": "stdout",
     "output_type": "stream",
     "text": [
      "cleaned list ['apple', 'banana', 'pineapple']\n"
     ]
    }
   ],
   "source": [
    "orginal_list=[\"apple\",\"banana\",\"\",\"\",\"pineapple\",\"\"]\n",
    "cleaned_list=[]\n",
    "for i in range (len(orginal_list)):\n",
    "    if orginal_list[i]!=\"\":\n",
    "        cleaned_list.append(orginal_list[i])\n",
    "print(\"cleaned list\",cleaned_list)\n",
    "             "
   ]
  }
 ],
 "metadata": {
  "kernelspec": {
   "display_name": "Python 3",
   "language": "python",
   "name": "python3"
  },
  "language_info": {
   "codemirror_mode": {
    "name": "ipython",
    "version": 3
   },
   "file_extension": ".py",
   "mimetype": "text/x-python",
   "name": "python",
   "nbconvert_exporter": "python",
   "pygments_lexer": "ipython3",
   "version": "3.12.5"
  }
 },
 "nbformat": 4,
 "nbformat_minor": 2
}
